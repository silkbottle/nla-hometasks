{
 "cells": [
  {
   "cell_type": "markdown",
   "metadata": {},
   "source": [
    "# Problem 1"
   ]
  },
  {
   "cell_type": "code",
   "execution_count": 44,
   "metadata": {
    "collapsed": false
   },
   "outputs": [],
   "source": [
    "import numpy as np\n",
    "\n",
    "def fft(x):\n",
    "#     assert len(x) & (len(x) - 1) == 0, \"len of vector isn't power of 2\"\n",
    "    def fft(x, n):\n",
    "        if n <= 128:\n",
    "            i, j = np.meshgrid(np.arange(n), np.arange(n))\n",
    "            omega = np.exp( - 2 * np.pi * 1j / n)\n",
    "            W = np.power(omega, i * j)\n",
    "            return W.dot(x)\n",
    "        n >>= 1\n",
    "        even = np.empty(n).astype(np.complex)\n",
    "        odd = np.empty(n).astype(np.complex)\n",
    "        for i in range(n):\n",
    "            even[i] = x[i >> 1]\n",
    "            odd[i] = x[(i >> 1) & 1]\n",
    "        even_res = fft(even, n)\n",
    "        odd_res = fft(odd, n)\n",
    "        odd_res *= np.fromfunction(lambda k: np.exp(-np.pi * 1j * k / n), [n])\n",
    "        return np.append(even_res + odd_res, even_res - odd_res)\n",
    "    \n",
    "    n = x.size\n",
    "    return fft(x.astype(np.complex), n)"
   ]
  },
  {
   "cell_type": "code",
   "execution_count": null,
   "metadata": {
    "collapsed": false
   },
   "outputs": [],
   "source": [
    "n = 1 << 15\n",
    "x = np.random.rand(n)\n",
    "# print np.linalg.norm(fft(x) - np.fft.fft(x))\n",
    "res1 = %timeit -o fft(x)\n",
    "res2 = %timeit -o np.fft.fft(x)\n",
    "print res1.best / res2.best"
   ]
  },
  {
   "cell_type": "code",
   "execution_count": 99,
   "metadata": {
    "collapsed": false
   },
   "outputs": [
    {
     "data": {
      "text/plain": [
       "(0.83248770674817829-0.55404351644357253j)"
      ]
     },
     "execution_count": 99,
     "metadata": {},
     "output_type": "execute_result"
    }
   ],
   "source": [
    "np.exp(-2 * np.pi * 1j * 10 / 107)"
   ]
  },
  {
   "cell_type": "markdown",
   "metadata": {
    "collapsed": true
   },
   "source": [
    "# Problem 2"
   ]
  },
  {
   "cell_type": "code",
   "execution_count": null,
   "metadata": {
    "collapsed": true
   },
   "outputs": [],
   "source": []
  }
 ],
 "metadata": {
  "kernelspec": {
   "display_name": "Python 2",
   "language": "python",
   "name": "python2"
  },
  "language_info": {
   "codemirror_mode": {
    "name": "ipython",
    "version": 2
   },
   "file_extension": ".py",
   "mimetype": "text/x-python",
   "name": "python",
   "nbconvert_exporter": "python",
   "pygments_lexer": "ipython2",
   "version": "2.7.10"
  }
 },
 "nbformat": 4,
 "nbformat_minor": 0
}
